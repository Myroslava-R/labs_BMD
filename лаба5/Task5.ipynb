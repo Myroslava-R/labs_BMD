{
 "cells": [
  {
   "cell_type": "markdown",
   "metadata": {},
   "source": [
    "Лабораторна робота №5    \n",
    "Руденко М.О. БС-82"
   ]
  },
  {
   "cell_type": "markdown",
   "metadata": {
    "colab_type": "text",
    "id": "9RHioPUvpaX3"
   },
   "source": [
    "# **КРИТЕРІЙ ПІРСОНА ДЛЯ ПОРІВНЯННЯ ДЕКІЛЬКОЇ ГРУП ЗА РОЗПОДІЛЕННЯМ ОЗНАКИ**"
   ]
  },
  {
   "cell_type": "markdown",
   "metadata": {
    "colab_type": "text",
    "id": "gJvivgECtRy7"
   },
   "source": [
    "## *Теоретичні відомості*"
   ]
  },
  {
   "cell_type": "markdown",
   "metadata": {
    "colab_type": "text",
    "id": "l_CIvVzgqAA1"
   },
   "source": [
    "Критерій хі-квадрат для аналізу таблиць спряженості був розроблений і запропонований в 1900 році англійським математиком, статистиком, біологом і філософом, засновником математичної статистики і одним з основоположників біометрії Карлом Пірсоном (1857-1936).\n",
    "\n",
    "*Таблиці спряженості* - це візуальне (табличне) відображення залежності між двома __*якісними*__ ознаками. \n",
    "Інтрерпретувати цей зв'язок можна як взаємозвя'зок між розподілом за однією ознакою в залежності від градації іншої ознаки. Прикладом може бути залежність частоти летальності в групах, що приймали різні лікувальні препарати (залежність летальності від схеми лікування), або залежність кількості осіб, що займаються різними видами спорту та частоти травматичних випадків (оцінка травматичності зайнять різними видами спорту).\n",
    "\n",
    "Рядки таблиці спряженості відповідають значенням однієї змінної, стовпці - значенням іншої змінної. *Для побудови таблиць спряженості кількісні шкали попередньо повинні бути згруповані в інтервали.* Область визначення випадковоъ величини розбивають на $k$ інтервалів, що не перетинаються:\n",
    "\n",
    "$$x_{0}<x_{1}<...<x_{k-1}<x_{k},$$\n",
    "\n",
    "де x_{0} - нижня границя області визначення випадкової величини, x_{k} - верхня границя.\n",
    "\n",
    "На перетині рядка і стовпця вказується частота спільної появи відповідних значень двох ознак.\n",
    "Сума частот по рядку називається маргінальною частотою рядка; сума частот по стовпцю - маргінальною частотою стовпчика.\n",
    "У таблиці спряженості можуть бути представлені як абсолютні, так і відносні частоти (в частках або відсотках). Відносні частоти можуть розраховуватися по відношенню:\n",
    "а) до маргінальної частоти по рядку;\n",
    "б) до маргінальної частоти по стовпцю;\n",
    "в) до обсягу вибірки."
   ]
  },
  {
   "cell_type": "markdown",
   "metadata": {
    "colab_type": "text",
    "id": "EVMo4PIltX48"
   },
   "source": [
    "Статистична гіпотеза для даного критерію має наступний вигляд:\n",
    "*   Основна (нульова). Ознаки не пов'язані.\n",
    "*   Конкуруюча (альтернативна). Ознаки пов'язані."
   ]
  },
  {
   "cell_type": "markdown",
   "metadata": {
    "colab_type": "text",
    "id": "LSU7rmy8yIAB"
   },
   "source": [
    "## Алгоритм розрахунку"
   ]
  },
  {
   "cell_type": "markdown",
   "metadata": {
    "colab_type": "text",
    "id": "V-cBzKp5tkos"
   },
   "source": [
    "В класичному випадку, критерій Пірсона поріявнює розподіл ознаки між двома групами. Алгоритм роботи:\n",
    "\n",
    "\n",
    "*   *Сформувати таблицю спряженості*, де стовбчики - це порювнювані групи, а рядки - градації ознаки, що досліджується.\n",
    "\n",
    "Ознака  | Група 1 | Група 2  |\n",
    "------------- | ------------- |--------- |\n",
    "Градація ознаки 1  | $n_{11}$   | $n_{21}$   |\n",
    "Градація ознаки 2  | $n_{12}$   | $n_{22}$   |\n",
    "Градація ознаки 3  | $n_{13}$   | $n_{23}$   |\n",
    "\n",
    "  $n_{11}$ - частота з якою градація 1 зустрічається в 1й групі\n",
    "\n",
    "$n_{12}$ - частота з якоюградація 2 зустрічається в 1й групі\n",
    "\n",
    "$n_{13}$ - частота з якоюградація 3 зустрічається в 1й групі\n",
    "\n",
    "$n_{21}$ - частота з якоюградація 1 зустрічається в 2й групі\n",
    "\n",
    "$n_{22}$ - частота з якоюградація 2 зустрічається в 2й групі\n",
    "\n",
    "$n_{23}$ - частота з якоюградація 3 зустрічається в 2й групі\n",
    "\n",
    "Вважаємо, що перша група експериментальна, а друга - теоретична.\n",
    "\n",
    "*   Перевірити рівність сум частот $\\sum n_{i}=\\sum \\grave{n}_{i}$. Якщо суми відрізняються, вирівняти їх зі збереженням відсоткового співвідношення між частотами всередині групи.\n",
    "\n",
    "* Розрахувати різницю між експериметальними (емпричними) та контрольним (теоретичними) частотами для кожної градації:\n",
    "\n",
    "Ознака  | Група 1 | Група 2  | $(n_{i}-\\grave{n}_{i})^2$  |\n",
    "------------- | ------------- |--------- |-------------- |\n",
    "Градація ознаки 1  | $n_{11}$   | $n_{21}$   |$(n_{11}-\\grave{n}_{21})^2$  |\n",
    "Градація ознаки 2  | $n_{12}$   | $n_{22}$   |$(n_{12}-\\grave{n}_{22})^2$  |\n",
    "Градація ознаки 3  | $n_{13}$   | $n_{23}$   |$(n_{13}-\\grave{n}_{23})^2$  |\n",
    "\n",
    "* Розділити отримані квадрати на теоретичні частити (дані контрольної групи):\n",
    "\n",
    "Ознака  | Група 1 | Група 2  | $(n_{i}-\\grave{n}_{i})^2$  | $\\frac{(n_{i}-\\grave{n}_{i})^2}{\\grave{n}_{i}}$  |\n",
    "------------- | ------------- |--------- |-------------- |-------------- |\n",
    "Градація ознаки 1  | $n_{11}$   | $n_{21}$   |$(n_{11}-\\grave{n}_{21})^2$  |$\\frac{(n_{11}-\\grave{n}_{21})^2}{\\grave{n}_{21}}$  |\n",
    "Градація ознаки 2  | $n_{12}$   | $n_{22}$   |$(n_{12}-\\grave{n}_{22})^2$  |$\\frac{(n_{12}-\\grave{n}_{22})^2}{\\grave{n}_{22}}$  |\n",
    "Градація ознаки 3  | $n_{13}$   | $n_{23}$   |$(n_{13}-\\grave{n}_{23})^2$  |$\\frac{(n_{13}-\\grave{n}_{23})^2}{\\grave{n}_{23}}^2$  |\n",
    "\n",
    "\n",
    "* Знайти сумму отриманих значень, позначивши її як $\\chi_{emp}^2$.\n",
    "\n",
    "* Визначити ступінь свободи критерію:\n",
    "\n",
    "$$r=m-1,$$\n",
    "\n",
    "де m - кількість градацій ознаки (рядків в таблиці спряженості).\n",
    "\n",
    "* Визначити за таблицею критичне значення для відповідного рівня значимості $\\alpha$ та розрахованого числа ступенів свободи.\n",
    "\n",
    "* Якщо $\\chi_{emp}^2 > \\chi_{critical}^2$, то розбіжності між розподіленнями статистично значимі на даному рівні значимості.\n"
   ]
  },
  {
   "cell_type": "markdown",
   "metadata": {
    "colab_type": "text",
    "id": "IdynD2W28NS9"
   },
   "source": [
    "## Таблиця критичних значень"
   ]
  },
  {
   "cell_type": "markdown",
   "metadata": {
    "colab_type": "text",
    "id": "6jyV7r8d8RyR"
   },
   "source": [
    "Завантажити таблицю критичних значень можна за посиланням: \n",
    "\n",
    "https://drive.google.com/open?id=1-525zNUUxYAbY3FStFy79B9O3UMkcuan"
   ]
  },
  {
   "cell_type": "markdown",
   "metadata": {
    "colab_type": "text",
    "id": "iZobJ1GO8_TY"
   },
   "source": [
    "## Завдання"
   ]
  },
  {
   "cell_type": "markdown",
   "metadata": {
    "colab_type": "text",
    "id": "BiWG1gAq9C5S"
   },
   "source": [
    "1. Обрати реальні дані з kaggle або сгенерувати випадкові дані, що містять розподіл деякої ознаки в двох групах.\n",
    "2. Побудувати графік, що відображає розподіл ознак в групах.\n",
    "3. Написати функції, що оцінює зв'язок між ознакою та групою за критерієм Пірсона. Функція має оцінювати розбіжність на двох рівнях - 0,001 та 0,05, в залежністі від параметру significant_level, що передається в неї.\n",
    "Врахувати у функції випадок, що сума частот ознаки у групах може бути відмінною.\n",
    "4. Перевірити розбіжність на між групами на даних з п. 1. В результаті сформувати таблицю спряженості наступного вигляду:\n",
    "\n",
    "Ознака  | Група 1 | Група 2  | \n",
    "------------- | ------------- |--------- |\n",
    "Градація ознаки 1  | $n_{11}  $   | $n_{21}$   |\n",
    "Градація ознаки 2  | $n_{12}$   | $n_{22}$   |\n",
    "Градація ознаки 3  | $n_{13}$   | $n_{23}$   |\n",
    "\n",
    "Додати до таблиці стовбчики з відсотовим розподілом по градаціям всередині груп.\n",
    "Окремо вивести результати роботи критерію (чи є статистична розбіжність між групами)."
   ]
  },
  {
   "cell_type": "code",
   "execution_count": 30,
   "metadata": {
    "colab": {},
    "colab_type": "code",
    "id": "zyXdWWXf_Tm8"
   },
   "outputs": [],
   "source": [
    "import pandas as pd\n",
    "import scipy\n",
    "import seaborn as sns\n",
    "import matplotlib.pyplot as plt\n",
    "%matplotlib inline\n",
    "import numpy as np"
   ]
  },
  {
   "cell_type": "code",
   "execution_count": 31,
   "metadata": {},
   "outputs": [
    {
     "data": {
      "text/html": [
       "<div>\n",
       "<style scoped>\n",
       "    .dataframe tbody tr th:only-of-type {\n",
       "        vertical-align: middle;\n",
       "    }\n",
       "\n",
       "    .dataframe tbody tr th {\n",
       "        vertical-align: top;\n",
       "    }\n",
       "\n",
       "    .dataframe thead th {\n",
       "        text-align: right;\n",
       "    }\n",
       "</style>\n",
       "<table border=\"1\" class=\"dataframe\">\n",
       "  <thead>\n",
       "    <tr style=\"text-align: right;\">\n",
       "      <th></th>\n",
       "      <th>flag</th>\n",
       "      <th>group</th>\n",
       "    </tr>\n",
       "  </thead>\n",
       "  <tbody>\n",
       "    <tr>\n",
       "      <th>0</th>\n",
       "      <td>1</td>\n",
       "      <td>1</td>\n",
       "    </tr>\n",
       "    <tr>\n",
       "      <th>1</th>\n",
       "      <td>1</td>\n",
       "      <td>2</td>\n",
       "    </tr>\n",
       "    <tr>\n",
       "      <th>2</th>\n",
       "      <td>1</td>\n",
       "      <td>2</td>\n",
       "    </tr>\n",
       "    <tr>\n",
       "      <th>3</th>\n",
       "      <td>0</td>\n",
       "      <td>1</td>\n",
       "    </tr>\n",
       "    <tr>\n",
       "      <th>4</th>\n",
       "      <td>0</td>\n",
       "      <td>1</td>\n",
       "    </tr>\n",
       "    <tr>\n",
       "      <th>5</th>\n",
       "      <td>0</td>\n",
       "      <td>1</td>\n",
       "    </tr>\n",
       "    <tr>\n",
       "      <th>6</th>\n",
       "      <td>1</td>\n",
       "      <td>1</td>\n",
       "    </tr>\n",
       "    <tr>\n",
       "      <th>7</th>\n",
       "      <td>0</td>\n",
       "      <td>1</td>\n",
       "    </tr>\n",
       "    <tr>\n",
       "      <th>8</th>\n",
       "      <td>1</td>\n",
       "      <td>2</td>\n",
       "    </tr>\n",
       "    <tr>\n",
       "      <th>9</th>\n",
       "      <td>0</td>\n",
       "      <td>1</td>\n",
       "    </tr>\n",
       "    <tr>\n",
       "      <th>10</th>\n",
       "      <td>1</td>\n",
       "      <td>1</td>\n",
       "    </tr>\n",
       "    <tr>\n",
       "      <th>11</th>\n",
       "      <td>0</td>\n",
       "      <td>2</td>\n",
       "    </tr>\n",
       "    <tr>\n",
       "      <th>12</th>\n",
       "      <td>1</td>\n",
       "      <td>2</td>\n",
       "    </tr>\n",
       "    <tr>\n",
       "      <th>13</th>\n",
       "      <td>1</td>\n",
       "      <td>2</td>\n",
       "    </tr>\n",
       "    <tr>\n",
       "      <th>14</th>\n",
       "      <td>1</td>\n",
       "      <td>2</td>\n",
       "    </tr>\n",
       "    <tr>\n",
       "      <th>15</th>\n",
       "      <td>0</td>\n",
       "      <td>2</td>\n",
       "    </tr>\n",
       "    <tr>\n",
       "      <th>16</th>\n",
       "      <td>0</td>\n",
       "      <td>1</td>\n",
       "    </tr>\n",
       "    <tr>\n",
       "      <th>17</th>\n",
       "      <td>1</td>\n",
       "      <td>2</td>\n",
       "    </tr>\n",
       "    <tr>\n",
       "      <th>18</th>\n",
       "      <td>0</td>\n",
       "      <td>1</td>\n",
       "    </tr>\n",
       "    <tr>\n",
       "      <th>19</th>\n",
       "      <td>1</td>\n",
       "      <td>1</td>\n",
       "    </tr>\n",
       "    <tr>\n",
       "      <th>20</th>\n",
       "      <td>1</td>\n",
       "      <td>2</td>\n",
       "    </tr>\n",
       "    <tr>\n",
       "      <th>21</th>\n",
       "      <td>1</td>\n",
       "      <td>1</td>\n",
       "    </tr>\n",
       "    <tr>\n",
       "      <th>22</th>\n",
       "      <td>0</td>\n",
       "      <td>2</td>\n",
       "    </tr>\n",
       "    <tr>\n",
       "      <th>23</th>\n",
       "      <td>0</td>\n",
       "      <td>2</td>\n",
       "    </tr>\n",
       "    <tr>\n",
       "      <th>24</th>\n",
       "      <td>0</td>\n",
       "      <td>2</td>\n",
       "    </tr>\n",
       "    <tr>\n",
       "      <th>25</th>\n",
       "      <td>0</td>\n",
       "      <td>1</td>\n",
       "    </tr>\n",
       "  </tbody>\n",
       "</table>\n",
       "</div>"
      ],
      "text/plain": [
       "    flag  group\n",
       "0      1      1\n",
       "1      1      2\n",
       "2      1      2\n",
       "3      0      1\n",
       "4      0      1\n",
       "5      0      1\n",
       "6      1      1\n",
       "7      0      1\n",
       "8      1      2\n",
       "9      0      1\n",
       "10     1      1\n",
       "11     0      2\n",
       "12     1      2\n",
       "13     1      2\n",
       "14     1      2\n",
       "15     0      2\n",
       "16     0      1\n",
       "17     1      2\n",
       "18     0      1\n",
       "19     1      1\n",
       "20     1      2\n",
       "21     1      1\n",
       "22     0      2\n",
       "23     0      2\n",
       "24     0      2\n",
       "25     0      1"
      ]
     },
     "execution_count": 31,
     "metadata": {},
     "output_type": "execute_result"
    }
   ],
   "source": [
    "df = pd.DataFrame({'flag' : [1,1,1,0,0,0,1,0,1,0,1,0,1,1,1,0,0,1,0,1,1,1,0,0,0,0],\n",
    "    'group' : [1,2,2,1,1,1,1,1,2,1,1,2,2,2,2,2,1,2,1,1,2,1,2,2,2,1]})\n",
    "df"
   ]
  },
  {
   "cell_type": "code",
   "execution_count": 32,
   "metadata": {},
   "outputs": [
    {
     "data": {
      "text/html": [
       "<div>\n",
       "<style scoped>\n",
       "    .dataframe tbody tr th:only-of-type {\n",
       "        vertical-align: middle;\n",
       "    }\n",
       "\n",
       "    .dataframe tbody tr th {\n",
       "        vertical-align: top;\n",
       "    }\n",
       "\n",
       "    .dataframe thead th {\n",
       "        text-align: right;\n",
       "    }\n",
       "</style>\n",
       "<table border=\"1\" class=\"dataframe\">\n",
       "  <thead>\n",
       "    <tr style=\"text-align: right;\">\n",
       "      <th>group</th>\n",
       "      <th>1</th>\n",
       "      <th>2</th>\n",
       "    </tr>\n",
       "    <tr>\n",
       "      <th>flag</th>\n",
       "      <th></th>\n",
       "      <th></th>\n",
       "    </tr>\n",
       "  </thead>\n",
       "  <tbody>\n",
       "    <tr>\n",
       "      <th>0</th>\n",
       "      <td>8</td>\n",
       "      <td>5</td>\n",
       "    </tr>\n",
       "    <tr>\n",
       "      <th>1</th>\n",
       "      <td>5</td>\n",
       "      <td>8</td>\n",
       "    </tr>\n",
       "  </tbody>\n",
       "</table>\n",
       "</div>"
      ],
      "text/plain": [
       "group  1  2\n",
       "flag       \n",
       "0      8  5\n",
       "1      5  8"
      ]
     },
     "execution_count": 32,
     "metadata": {},
     "output_type": "execute_result"
    }
   ],
   "source": [
    "k = pd.crosstab(df['flag'], df['group'])\n",
    "k"
   ]
  },
  {
   "cell_type": "code",
   "execution_count": 33,
   "metadata": {},
   "outputs": [
    {
     "data": {
      "image/png": "[encoded data removed]",
      "text/plain": [
       "<Figure size 432x216 with 2 Axes>"
      ]
     },
     "metadata": {
      "needs_background": "light"
     },
     "output_type": "display_data"
    }
   ],
   "source": [
    "fig = sns.FacetGrid(df, col=\"flag\")\n",
    "fig = fig.map(plt.hist, \"group\");"
   ]
  },
  {
   "cell_type": "code",
   "execution_count": 36,
   "metadata": {},
   "outputs": [],
   "source": [
    "def Pirson_Test(inf, significant_level):\n",
    "    flag = []*0\n",
    "    group = []*0\n",
    "    f=0\n",
    "    for i in inf.iloc[:,0]:\n",
    "        f = True\n",
    "        for j in flag:\n",
    "            if(i == j):\n",
    "                f = False\n",
    "        if(f):\n",
    "            flag.append(i)\n",
    "    for i in inf.iloc[:,1]:\n",
    "        f = True\n",
    "        for j in group:\n",
    "            if(i == j):\n",
    "                f = False\n",
    "        if(f):\n",
    "            group.append(i)\n",
    "    flag = np.sort(flag)\n",
    "    group = np.sort(group)\n",
    "    criterion = pd.DataFrame({\n",
    "        (group[0]):(0 for i in range(len(flag))),\n",
    "        (group[1]):(0 for i in range(len(flag))),}, index = flag)\n",
    "    for i in range(len(inf)):\n",
    "        criterion [inf.iloc[i,1]][inf.iloc[i,0]] += 1\n",
    "    if (sum(criterion.iloc[:,0]) != sum(criterion.iloc[:,1])):\n",
    "        for i in criterion.iloc[:,1]:\n",
    "            criterion[criterion.columns[1]] = [i/sum(criterion.iloc[:,1])*sum(criterion.iloc[:,0])]\n",
    "    else:\n",
    "        criterion[criterion.columns[1]] = criterion[criterion.columns[1]]\n",
    "    criterion[\"(𝑛𝑖−𝑛̀𝑖)^2\"] = [(criterion.iloc[i,0] - criterion.iloc[i,1])**2 for i in range(len(criterion))]\n",
    "    criterion[\"(𝑛𝑖−𝑛̀𝑖)^2/𝑛̀𝑖\"] = [criterion.iloc[i,2]/criterion.iloc[i,1] for i in range(len(criterion))]\n",
    "    print(\"Таблиця спряженості:\")\n",
    "    print(criterion)\n",
    "    hi = sum(criterion.iloc[:,3])\n",
    "    print(\"\\nχ^2 = \" + str(hi))\n",
    "    print(\"Кількість ступенів свободи: \" + str(len(criterion)-1))\n",
    "    table = pd.read_excel(\"Таблиця критичних значень для критерію Пірсона.xlsx\").iloc[len(criterion)-1, 1 if(significant_level == 0.01) else 2]\n",
    "    print(\"χ^2 критичне = \" + str(table))\n",
    "    result = 0\n",
    "    if (hi < table):\n",
    "        result = \"Розбіжність відсутня або не суттєва, оскільки %.5f \"%hi+\"< %.1f (критичне)\"%table\n",
    "    else:\n",
    "        result = \"Розбіжність присутня, оскільки %.5f \"%hi+\"> %.1f (критичне)\"%table\n",
    "    return result"
   ]
  },
  {
   "cell_type": "code",
   "execution_count": 39,
   "metadata": {},
   "outputs": [
    {
     "name": "stdout",
     "output_type": "stream",
     "text": [
      "Таблиця спряженості:\n",
      "   1  2  (𝑛𝑖−𝑛̀𝑖)^2  (𝑛𝑖−𝑛̀𝑖)^2/𝑛̀𝑖\n",
      "0  8  5           9           1.800\n",
      "1  5  8           9           1.125\n",
      "\n",
      "χ^2 = 2.925\n",
      "Кількість ступенів свободи: 1\n",
      "χ^2 критичне = 6.6\n"
     ]
    },
    {
     "data": {
      "text/plain": [
       "'Розбіжність відсутня або не суттєва, оскільки 2.92500 < 6.6 (критичне)'"
      ]
     },
     "execution_count": 39,
     "metadata": {},
     "output_type": "execute_result"
    }
   ],
   "source": [
    "Pirson_Test(df, 0.01)"
   ]
  },
  {
   "cell_type": "code",
   "execution_count": 40,
   "metadata": {},
   "outputs": [
    {
     "name": "stdout",
     "output_type": "stream",
     "text": [
      "Таблиця спряженості:\n",
      "   1  2  (𝑛𝑖−𝑛̀𝑖)^2  (𝑛𝑖−𝑛̀𝑖)^2/𝑛̀𝑖\n",
      "0  8  5           9           1.800\n",
      "1  5  8           9           1.125\n",
      "\n",
      "χ^2 = 2.925\n",
      "Кількість ступенів свободи: 1\n",
      "χ^2 критичне = 3.8\n"
     ]
    },
    {
     "data": {
      "text/plain": [
       "'Розбіжність відсутня або не суттєва, оскільки 2.92500 < 3.8 (критичне)'"
      ]
     },
     "execution_count": 40,
     "metadata": {},
     "output_type": "execute_result"
    }
   ],
   "source": [
    "Pirson_Test(df, 0.05)"
   ]
  },
  {
   "cell_type": "code",
   "execution_count": 41,
   "metadata": {},
   "outputs": [
    {
     "name": "stdout",
     "output_type": "stream",
     "text": [
      "69.23076923076923%\n",
      "30.76923076923077%\n",
      "53.84615384615385%\n",
      "46.15384615384615%\n"
     ]
    }
   ],
   "source": [
    "proc110 = 0\n",
    "proc120 = 0\n",
    "proc210 = 0\n",
    "proc220 = 0\n",
    "proc110 = str((9/13)*100) + \"%\"\n",
    "print(proc110)\n",
    "proc120 = str((4/13)*100) + \"%\"\n",
    "print(proc120)\n",
    "proc210 = str((7/13)*100) + \"%\"\n",
    "print(proc210)\n",
    "proc220 = str((6/13)*100) + \"%\"\n",
    "print(proc220)"
   ]
  },
  {
   "cell_type": "code",
   "execution_count": 42,
   "metadata": {},
   "outputs": [
    {
     "data": {
      "text/html": [
       "<div>\n",
       "<style scoped>\n",
       "    .dataframe tbody tr th:only-of-type {\n",
       "        vertical-align: middle;\n",
       "    }\n",
       "\n",
       "    .dataframe tbody tr th {\n",
       "        vertical-align: top;\n",
       "    }\n",
       "\n",
       "    .dataframe thead th {\n",
       "        text-align: right;\n",
       "    }\n",
       "</style>\n",
       "<table border=\"1\" class=\"dataframe\">\n",
       "  <thead>\n",
       "    <tr style=\"text-align: right;\">\n",
       "      <th></th>\n",
       "      <th>group 1</th>\n",
       "      <th>group 2</th>\n",
       "      <th>group 1 in %</th>\n",
       "      <th>group 2 in %</th>\n",
       "    </tr>\n",
       "  </thead>\n",
       "  <tbody>\n",
       "    <tr>\n",
       "      <th>10</th>\n",
       "      <td>9</td>\n",
       "      <td>7</td>\n",
       "      <td>69.230769</td>\n",
       "      <td>53.846154</td>\n",
       "    </tr>\n",
       "    <tr>\n",
       "      <th>20</th>\n",
       "      <td>4</td>\n",
       "      <td>6</td>\n",
       "      <td>30.769231</td>\n",
       "      <td>46.153846</td>\n",
       "    </tr>\n",
       "  </tbody>\n",
       "</table>\n",
       "</div>"
      ],
      "text/plain": [
       "    group 1  group 2  group 1 in %  group 2 in %\n",
       "10        9        7     69.230769     53.846154\n",
       "20        4        6     30.769231     46.153846"
      ]
     },
     "execution_count": 42,
     "metadata": {},
     "output_type": "execute_result"
    }
   ],
   "source": [
    "d = {'group 1': [9, 4], 'group 2': [7, 6], 'group 1 in %': [69.23076923076923,30.76923076923077], \n",
    "     'group 2 in %': [53.84615384615385,46.15384615384615]}\n",
    "new_df = pd.DataFrame(data=d,index = [10,20])\n",
    "new_df"
   ]
  },
  {
   "cell_type": "code",
   "execution_count": null,
   "metadata": {},
   "outputs": [],
   "source": []
  }
 ],
 "metadata": {
  "colab": {
   "authorship_tag": "ABX9TyMj+zsbRRXcFPRiMT239GjJ",
   "collapsed_sections": [],
   "name": "Task5.ipynb",
   "provenance": []
  },
  "kernelspec": {
   "display_name": "Python 3",
   "language": "python",
   "name": "python3"
  },
  "language_info": {
   "codemirror_mode": {
    "name": "ipython",
    "version": 3
   },
   "file_extension": ".py",
   "mimetype": "text/x-python",
   "name": "python",
   "nbconvert_exporter": "python",
   "pygments_lexer": "ipython3",
   "version": "3.8.2"
  }
 },
 "nbformat": 4,
 "nbformat_minor": 1
}
