{
 "cells": [
  {
   "cell_type": "markdown",
   "metadata": {
    "colab_type": "text",
    "id": "nVYjIYs6RrPC"
   },
   "source": [
    "#Парний t-критерій Стьюдента"
   ]
  },
  {
   "cell_type": "markdown",
   "metadata": {
    "colab_type": "text",
    "id": "XXsl5rFgSnTy"
   },
   "source": [
    "##Теоретичні відомості"
   ]
  },
  {
   "cell_type": "markdown",
   "metadata": {
    "colab_type": "text",
    "id": "PssXphh9SrEZ"
   },
   "source": [
    "### Область застосування"
   ]
  },
  {
   "cell_type": "markdown",
   "metadata": {
    "colab_type": "text",
    "id": "AmI6S5ibR9LK"
   },
   "source": [
    "t-критерій для парних вибірок застосовується для порівняння двох середніх значень отриманих від одного і того об'єкта. Два середніх можуть відображати такі явища, як:\n",
    "\n",
    "* Вимірювання одного показника, які проведено в два різних моменти часу (наприклад, до і після тесту з проведеним втручанням між двома часовими точками)\n",
    "* Вимірювання, проведене в двох різних умовах (наприклад, завершення тесту в умовах «контролю» і «експерименту»)\n",
    "* Вимірювання проводяться з двох половин або сторін від суб'єкта або експериментальної одиниці (наприклад, вимір втрати слуху в лівому і правому вухах суб'єкта).\n",
    "\n",
    "**Мета тесту** - визначити, чи є статистичні докази того, що середнє розходження між парними спостереженнями  значно відрізняється від нуля. t-критерій для парних вибірок - це параметричний тест."
   ]
  },
  {
   "cell_type": "markdown",
   "metadata": {
    "colab_type": "text",
    "id": "JM-Yi2bCV-ki"
   },
   "source": [
    "### Вимоги до даних"
   ]
  },
  {
   "cell_type": "markdown",
   "metadata": {
    "colab_type": "text",
    "id": "34fQ92DpUGbE"
   },
   "source": [
    "Для використання даного критерію обов'язковим є:\n",
    "\n",
    "\n",
    "1.   Залежна змінна має бути безперервною.\n",
    "2.   Групи мають бути залежними.\n",
    "3. Кількість груп не може бути більшою ніж 2.\n",
    "4. Кількість обьектів в групах однакова (кожному спостереженню об'єкта в першій групі відповідає спостереження в другій).\n",
    "5. Залежна змінна має мати нормальний розподіл.\n",
    "\n"
   ]
  },
  {
   "cell_type": "markdown",
   "metadata": {
    "colab_type": "text",
    "id": "QbCE8jwcaSEr"
   },
   "source": [
    "**bold text**### Гіпотеза"
   ]
  },
  {
   "cell_type": "markdown",
   "metadata": {
    "colab_type": "text",
    "id": "rq2hTPtmaV1p"
   },
   "source": [
    "Гіпотеза, яка перевіряєть даним тестом може бути виражена наступним чином:\n",
    "\n",
    "$H_0 : μ_1  = μ_2$ («парні групи рівні»)\n",
    "\n",
    "$H_1 : μ_1  ≠ μ_2$ («парні групи відмінні»)\n",
    "\n",
    "або:\n",
    "\n",
    "$H_0 : μ_1  - μ_2 = 0$ («різниця між середніми у парних групах за показником, що досліджується рівна 0»)\n",
    "\n",
    "$H_1 : μ_1 -  μ_2$ ≠ 0 $ («різниця між середніми у парних групах за показником, що досліджується не рівна 0»)\n",
    "\n",
    "Тут $μ_1$ - середнє значення змінної в першій групі; $μ_2$ - середнє значення змінної в першій групі."
   ]
  },
  {
   "cell_type": "markdown",
   "metadata": {
    "colab_type": "text",
    "id": "7TMrlGz4bXuH"
   },
   "source": [
    "### Алгоритм розрахунку"
   ]
  },
  {
   "cell_type": "markdown",
   "metadata": {
    "colab_type": "text",
    "id": "hKV0qbE0blUT"
   },
   "source": [
    "#### Аналіз залежності між групами"
   ]
  },
  {
   "cell_type": "markdown",
   "metadata": {
    "colab_type": "text",
    "id": "mmfhYMmocyC1"
   },
   "source": [
    "Перед визначенням відмінності за парним критерієм Стьюента необхідно перевірити чи є зв'язок між групами.\n",
    "Для цього використовують коефіцієнт кореляції Пірсона. Його розраховують за формулою:\n",
    "$$ r = \\frac{n\\cdot \\sum(x_i\\cdot y_i) - (\\sum x_i \\cdot \\sum y_i)}{\\sqrt{(n\\cdot \\sum x_i^2 - (\\sum x_i) ^2) \\cdot (n\\cdot \\sum y_i^2 - (\\sum y_i) ^2)}} $$\n",
    "\n",
    "При знаходженні критичних значень для обчисленого коефіцієнта кореляції Пірсона  число ступенів свободи розраховується як $ df = n - 2 $. Знайдіть у [таблиці](https://drive.google.com/open?id=1e2bk9_U3qg3SVZ-lmeLkJcLQywm6fetc) рядок з відповідним або найбільш близьким df.\n",
    "\n",
    "Якщо отриманий коефіцієнт кореляції більше табличного - існує статистично значима залежність між групами.\n",
    "\n",
    "Величину зв'зку можна оцінити а таблицею:\n",
    "\n",
    "\n",
    "Значення r  | Висновок |\n",
    "------------- | ------------- |\n",
    "0-0,3  | дуже слабкий  |\n",
    "0,31-0,5  | слабкий   |\n",
    "0,51-0,7  | середній   |\n",
    "0,71-0,9  | високий   |\n",
    "0,91-1  | дуже високий   |\n",
    "\n"
   ]
  },
  {
   "cell_type": "markdown",
   "metadata": {
    "colab_type": "text",
    "id": "KgENLjetczvG"
   },
   "source": [
    "#### Аналіз відмінності між групами"
   ]
  },
  {
   "cell_type": "markdown",
   "metadata": {
    "colab_type": "text",
    "id": "YlJy8hjG_qyc"
   },
   "source": [
    "1. Розрахунок різниці між парними значеннями для кожного об'єкта. Приклад:\n",
    "\n",
    "Група 1 (до)  | Група 2 (після) | Різниця ($d$) |\n",
    "------------- | ------------- |--------- |\n",
    "3  | 5  | -2   |\n",
    "1  | 8   | -7   |\n",
    "10  | 0   | 10   |\n",
    "\n",
    "2. Розрахунок стататистичних показників:\n",
    "\n",
    "\n",
    "*   Середнє значення різниці між значеннями ($M_d$).\n",
    "*   Стандарне відхилення різниці між заченнями ($\\sigma_d$).\n",
    "3. Розрахунок значення t-критерію Стюдента за формулою:\n",
    "\n",
    "$$t_{emp} = \\frac{M_d}{\\sigma_d}\\cdot\\sqrt{n}\\$$\n",
    "\n",
    "4. Визначення ступеня свободи критерію:\n",
    "\n",
    "$$ df = n - 1 $$\n",
    "\n",
    "5. Визначимо по  [таблиці критичних значень](https://drive.google.com/open?id=1e2bk9_U3qg3SVZ-lmeLkJcLQywm6fetc)  t-Стьюдента рівень значущості. Знайдіть у таблиці рядок з відповідним або найбільш близьким df.\n",
    "Якщо $t_{emp} > t_{critical}$  приймається альтернативна гіпотеза про відмінність в середніх, в протилежному випадку - приймається нульова гіпотеза про рівність середніх."
   ]
  },
  {
   "cell_type": "markdown",
   "metadata": {
    "colab_type": "text",
    "id": "uzWnVaq1PU-l"
   },
   "source": [
    "# Завдання\n",
    "\n",
    "1. Обрати реальні дані з kaggle або сгенерувати випадкові дані. Дані мають відповідати вимогам викладеним вище. Формат даних:\n",
    "\n",
    "| Група 1 | Група 2  | \n",
    "| ------------- |--------- |\n",
    "| $k_{1}  $   | $k_{2}$   |\n",
    "| $...$   | $...$   |\n",
    "| $k_{1n}$   | $k_{2n}$   |\n",
    "\n",
    "2. Побудувати графік, що відображає розкид даних в групах. Приклад:\n",
    "![alt text](https://s3.amazonaws.com/libapps/accounts/2515/images/spss_paired-t_example_boxplot.PNG)\n",
    "\n",
    "3. Написати функції:\n",
    "* для оцінки зв'язку між групами за коефіцієнтом кореляції Пірсона. Функція має повертати значення коефіцієнту кореляції, значення ступеня свободи та результат оцінки значимості зв'зку (significant або not significant).\n",
    "\n",
    "* для визначення відмінності між групами за критерієм Стьюдента. Функція має повертати значення критерію Стьюдента,значення ступеня свободи та результат оцінки значимості зв'зку (significant або not significant). \n",
    "\n",
    "4. Перевірити розбіжність на між групами на даних з п. 1. \n",
    "\n",
    "5. Сформувати висновок про взаємозв'язок між групами та про їх розбіжність. "
   ]
  },
  {
   "cell_type": "code",
   "execution_count": 24,
   "metadata": {},
   "outputs": [],
   "source": [
    "import scipy.stats as ss\n",
    "import numpy as np\n",
    "import pandas as pd\n",
    "import math\n",
    "import matplotlib.pyplot as plt\n",
    "import seaborn as sns"
   ]
  },
  {
   "cell_type": "code",
   "execution_count": 37,
   "metadata": {},
   "outputs": [
    {
     "data": {
      "text/html": [
       "<div>\n",
       "<style scoped>\n",
       "    .dataframe tbody tr th:only-of-type {\n",
       "        vertical-align: middle;\n",
       "    }\n",
       "\n",
       "    .dataframe tbody tr th {\n",
       "        vertical-align: top;\n",
       "    }\n",
       "\n",
       "    .dataframe thead th {\n",
       "        text-align: right;\n",
       "    }\n",
       "</style>\n",
       "<table border=\"1\" class=\"dataframe\">\n",
       "  <thead>\n",
       "    <tr style=\"text-align: right;\">\n",
       "      <th>Результаты выполнения(сек.)</th>\n",
       "      <th>до курса</th>\n",
       "      <th>после курса</th>\n",
       "    </tr>\n",
       "    <tr>\n",
       "      <th>№</th>\n",
       "      <th></th>\n",
       "      <th></th>\n",
       "    </tr>\n",
       "  </thead>\n",
       "  <tbody>\n",
       "    <tr>\n",
       "      <th>1</th>\n",
       "      <td>25</td>\n",
       "      <td>22</td>\n",
       "    </tr>\n",
       "    <tr>\n",
       "      <th>2</th>\n",
       "      <td>23</td>\n",
       "      <td>25</td>\n",
       "    </tr>\n",
       "    <tr>\n",
       "      <th>3</th>\n",
       "      <td>28</td>\n",
       "      <td>23</td>\n",
       "    </tr>\n",
       "    <tr>\n",
       "      <th>4</th>\n",
       "      <td>29</td>\n",
       "      <td>22</td>\n",
       "    </tr>\n",
       "    <tr>\n",
       "      <th>5</th>\n",
       "      <td>35</td>\n",
       "      <td>30</td>\n",
       "    </tr>\n",
       "    <tr>\n",
       "      <th>6</th>\n",
       "      <td>31</td>\n",
       "      <td>27</td>\n",
       "    </tr>\n",
       "    <tr>\n",
       "      <th>7</th>\n",
       "      <td>24</td>\n",
       "      <td>20</td>\n",
       "    </tr>\n",
       "    <tr>\n",
       "      <th>8</th>\n",
       "      <td>24</td>\n",
       "      <td>19</td>\n",
       "    </tr>\n",
       "    <tr>\n",
       "      <th>9</th>\n",
       "      <td>38</td>\n",
       "      <td>32</td>\n",
       "    </tr>\n",
       "    <tr>\n",
       "      <th>10</th>\n",
       "      <td>26</td>\n",
       "      <td>25</td>\n",
       "    </tr>\n",
       "  </tbody>\n",
       "</table>\n",
       "</div>"
      ],
      "text/plain": [
       "Результаты выполнения(сек.)  до курса  после курса\n",
       "№                                                 \n",
       "1                                  25           22\n",
       "2                                  23           25\n",
       "3                                  28           23\n",
       "4                                  29           22\n",
       "5                                  35           30\n",
       "6                                  31           27\n",
       "7                                  24           20\n",
       "8                                  24           19\n",
       "9                                  38           32\n",
       "10                                 26           25"
      ]
     },
     "execution_count": 37,
     "metadata": {},
     "output_type": "execute_result"
    }
   ],
   "source": [
    "table1=[]\n",
    "table1 = [25,23,28,29,35,31,24,24,38,26]\n",
    "table2=[]\n",
    "table2 = [22,25,23,22,30,27,20,19,32,25]\n",
    "df = pd.DataFrame({\n",
    "    'до курса': table1,\n",
    "    'после курса': table2\n",
    "}, index=np.arange(1, len(table1)+1))\n",
    "df.columns.name = 'Результаты выполнения(сек.)'\n",
    "df.index.name = '№'\n",
    "df"
   ]
  },
  {
   "cell_type": "code",
   "execution_count": 38,
   "metadata": {},
   "outputs": [
    {
     "data": {
      "text/plain": [
       "[]"
      ]
     },
     "execution_count": 38,
     "metadata": {},
     "output_type": "execute_result"
    },
    {
     "data": {
      "image/png": "[encoded data removed]",
      "text/plain": [
       "<Figure size 432x288 with 1 Axes>"
      ]
     },
     "metadata": {
      "needs_background": "light"
     },
     "output_type": "display_data"
    }
   ],
   "source": [
    "sns.boxplot(data=df, orient='h').set()"
   ]
  },
  {
   "cell_type": "code",
   "execution_count": 39,
   "metadata": {},
   "outputs": [],
   "source": [
    "def mas(massiv,n):\n",
    "    sum1= 0\n",
    "    for i in range(n):\n",
    "        sum1+=((massiv[i])**2)\n",
    "    return sum1\n",
    "def Pearson(x, y):\n",
    "    n = len(x)\n",
    "    sum1=sum(x)\n",
    "    sum2=sum(y)\n",
    "    d=sum1*sum2\n",
    "    k=0\n",
    "    for i in range(n):\n",
    "        k+=x[i]*y[i]\n",
    "    sum3=mas(x,n)\n",
    "    sum4=(sum(x))**2\n",
    "    sum5=mas(y,n)\n",
    "    sum6=((sum(y))**2)\n",
    "    result=0\n",
    "    r = ((n * k)-d)/(math.sqrt((n*sum3-sum4)*(n*sum5-sum6)))\n",
    "    print('Отримане значення коефіцієнту кореляції Пірсона: r = ' + str(r))\n",
    "    df= len(x)-2\n",
    "    print('Значення ступеня свободи: df = ' + str(df))\n",
    "    table = pd.read_excel(\"Таблица критических значений коэфициента корреляции Пирсона.xlsx\").iloc[df-1, 1 ]\n",
    "    print(\"Критичне значення коефіцієнту кореляції = \" + str(table))\n",
    "    if table<r:\n",
    "        result = \"Оскільки значення коефіцієнту кореляції Пірсона більше, ніж його критичне значення, то результат оцінки значимості зв'зку - significant\"\n",
    "    else:\n",
    "        result = \"Оскільки значення коефіцієнту кореляції Пірсона менше, ніж його критичне значення, то результат оцінки значимості зв'зку -  not significant\"\n",
    "    return result"
   ]
  },
  {
   "cell_type": "code",
   "execution_count": 40,
   "metadata": {},
   "outputs": [],
   "source": [
    "def Student(x, y):\n",
    "    n=len(x)\n",
    "    d=[]*n\n",
    "    for i in range(n):\n",
    "        d.append(x[i] - y[i])\n",
    "    M=sum(d)/n\n",
    "    L=0\n",
    "    for i in range(n):\n",
    "        L += ((M-d[i])**2)\n",
    "    sigma = math.sqrt((L)/(n-1))\n",
    "    t = M/(sigma/math.sqrt(n))\n",
    "    print('Отримане значення t-критерію Стьюдента: t = ' + str(t))\n",
    "    df = n - 1\n",
    "    print('Значення ступеня свободи: df = ' + str(df))\n",
    "    table = pd.read_excel(\"Таблица критических значений для парного критерия.xlsx\").iloc[df-1, 1 ]\n",
    "    print(\"Критичне значення коефіцієнту Стьюдента = \" + str(table))\n",
    "    if table<t:\n",
    "        result = \"Оскільки значення коефіцієнту Стьюдента більше, ніж його критичне значення, то результат оцінки значимості зв'зку - significant\"\n",
    "    else:\n",
    "        result = \"Оскільки значення коефіцієнту Стьюдента менше, ніж його критичне значення, то результат оцінки значимості зв'зку -  not significant\"\n",
    "    return result"
   ]
  },
  {
   "cell_type": "code",
   "execution_count": 41,
   "metadata": {},
   "outputs": [
    {
     "name": "stdout",
     "output_type": "stream",
     "text": [
      "Отримане значення коефіцієнту кореляції Пірсона: r = 0.8546259770199364\n",
      "Значення ступеня свободи: df = 8\n",
      "Критичне значення коефіцієнту кореляції = 0.6319\n"
     ]
    },
    {
     "data": {
      "text/plain": [
       "\"Оскільки значення коефіцієнту кореляції Пірсона більше, ніж його критичне значення, то результат оцінки значимості зв'зку - significant\""
      ]
     },
     "execution_count": 41,
     "metadata": {},
     "output_type": "execute_result"
    }
   ],
   "source": [
    "Pearson(table1, table2)"
   ]
  },
  {
   "cell_type": "code",
   "execution_count": 42,
   "metadata": {},
   "outputs": [
    {
     "name": "stdout",
     "output_type": "stream",
     "text": [
      "Отримане значення t-критерію Стьюдента: t = 4.593190894944668\n",
      "Значення ступеня свободи: df = 9\n",
      "Критичне значення коефіцієнту Стьюдента = 2.262\n"
     ]
    },
    {
     "data": {
      "text/plain": [
       "\"Оскільки значення коефіцієнту Стьюдента більше, ніж його критичне значення, то результат оцінки значимості зв'зку - significant\""
      ]
     },
     "execution_count": 42,
     "metadata": {},
     "output_type": "execute_result"
    }
   ],
   "source": [
    "Student(table1,table2)"
   ]
  },
  {
   "cell_type": "markdown",
   "metadata": {},
   "source": [
    "Висновок: \n",
    "результат аналізу данних до та після курсу:\n",
    "наявність статистично значущих відмінностей виконання тесту до та після курсу. Була прийнята альтернативна гіпотеза про відмінність середніх. "
   ]
  },
  {
   "cell_type": "code",
   "execution_count": null,
   "metadata": {},
   "outputs": [],
   "source": []
  }
 ],
 "metadata": {
  "colab": {
   "authorship_tag": "ABX9TyMECvYvylPfpHunuzzVsJBS",
   "name": "Tast6.ipynb",
   "provenance": []
  },
  "kernelspec": {
   "display_name": "Python 3",
   "language": "python",
   "name": "python3"
  },
  "language_info": {
   "codemirror_mode": {
    "name": "ipython",
    "version": 3
   },
   "file_extension": ".py",
   "mimetype": "text/x-python",
   "name": "python",
   "nbconvert_exporter": "python",
   "pygments_lexer": "ipython3",
   "version": "3.8.2"
  }
 },
 "nbformat": 4,
 "nbformat_minor": 1
}
