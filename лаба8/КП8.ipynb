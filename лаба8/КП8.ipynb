{
 "cells": [
  {
   "cell_type": "markdown",
   "metadata": {
    "colab_type": "text",
    "id": "weuwGEo2mJBC"
   },
   "source": [
    "# Дисперсійний аналіз"
   ]
  },
  {
   "cell_type": "markdown",
   "metadata": {
    "colab_type": "text",
    "id": "ZUzN4OAhmxkD"
   },
   "source": [
    "##Теоретичні відомості"
   ]
  },
  {
   "cell_type": "markdown",
   "metadata": {
    "colab_type": "text",
    "id": "GCJ4px_JmMeY"
   },
   "source": [
    "**Дисперсійний аналіз** - статистичний метод дослідження взаємозв'язку. Застосовується для аналізу впливу якісної змінної  на одну залежну (кількісну) змінну.\n",
    "В основі дисперсійного аналізу лежить припущення, що одні змінні можливо розглядати як причини (незалежні змінні), інші - як наслідки (залежні змінні). Незалежні змінні в дисперсійному аналізі називають факторами.\n",
    " У зарубежній літературі дисперсійний аналіз часто обозначається як ANOVA, що переводиться як аналіз варіативності (Analysis of Variance).\n",
    "\n",
    "Дисперсійний аналіз - параметричний метод.\n",
    "\n",
    "\n"
   ]
  },
  {
   "cell_type": "markdown",
   "metadata": {
    "colab_type": "text",
    "id": "t1MGzbZKm0QY"
   },
   "source": [
    "### Область застосування"
   ]
  },
  {
   "cell_type": "markdown",
   "metadata": {
    "colab_type": "text",
    "id": "u6P7khWWm16u"
   },
   "source": [
    "ANOVA використовують для визначення статистичних відмінностей у *середніх* значення двох або більше групп."
   ]
  },
  {
   "cell_type": "markdown",
   "metadata": {
    "colab_type": "text",
    "id": "LOW2EJNpm5oi"
   },
   "source": [
    "### Вимоги до даних"
   ]
  },
  {
   "cell_type": "markdown",
   "metadata": {
    "colab_type": "text",
    "id": "ldtCTT-2m6tf"
   },
   "source": [
    "Ваші дані повинні відповідати наступним вимогам:\n",
    "1. Залежна змінна має бути безперервною (кількісною).\n",
    "2. Незалежна змінна має бути категоріальною (містити дві або більше груп).\n",
    "3. Групи є незалежними.\n",
    "4. Залежна змінна має нормальний розподіл.\n",
    "5. Однорідність дисперсій. Групи мають приблизно однакові дисперсії.\n",
    "6. Залежна змінна не містить викидів.\n",
    "7. Кожна група має містити принаймні 6 спостережень.\n",
    "8. Сбалансований дизайн. В ідеалі, групи мають бути однаковими за розміром.\n"
   ]
  },
  {
   "cell_type": "markdown",
   "metadata": {
    "colab_type": "text",
    "id": "zcDHzLIZm6_R"
   },
   "source": [
    "### Гіпотеза"
   ]
  },
  {
   "cell_type": "markdown",
   "metadata": {
    "colab_type": "text",
    "id": "pYFVPpI6m899"
   },
   "source": [
    "Гіпотеза, яка перевіряєть даним тестом може бути виражена наступним чином:\n",
    "\n",
    "$H_0 : μ_1  = μ_2 = ... =  μ_n $ («середні  незалежних груп рівні»)\n",
    "\n",
    "$H_1 : μ_1  ≠ μ_2 ≠ ... ≠ μ_n$ («середні  незалежних груп відмінні»)"
   ]
  },
  {
   "cell_type": "markdown",
   "metadata": {
    "colab_type": "text",
    "id": "zo71OMQ6m9HF"
   },
   "source": [
    "### Алгоритм розрахунку"
   ]
  },
  {
   "cell_type": "markdown",
   "metadata": {
    "colab_type": "text",
    "id": "XWDrm4xAnDiE"
   },
   "source": [
    "Припустимо, що є три незалежні групи кожна з яких пройшла тест на запам'ятовування 10 слів. Першій групі слова демонструвалися з низькою швидкістю - 1 слово в 5 секунд, другій  з середньою швидкістю - 1 слово в 2 секунди, і третій групі з великою швидкістю - 1 слово в секунду.\n",
    "\n",
    "Прикладом задачі, яка вирішується методом дисперсійного аналізу є аналіз впливу швидкості демонстрації слів на результат тесту. \n",
    "\n",
    "n  | Група 1 (низька швидкість) | Група 2 (середня швидкість) | Група 3 (висока швидкість) |\n",
    "------------- | ------------- |--------- | ------------- | \n",
    "1  | 8   | 7   | 4   | \n",
    "2  | 7   | 8   |5   | \n",
    "3  | 9   | 5   |3   |\n",
    "4  | 5   | 4   |6   | \n",
    "5  | 6  | 6   |2  |  \n",
    "6  | 8   | 7  |4  | \n",
    "Сума  | 43   | 37  |24   |\n",
    "Середні  | 7,17   | 3,17   |4  | \n",
    "\n",
    "Загальна сума - 104\n",
    "\n",
    "Основні величини для однофакторного дисперсійного аналізу:\n",
    "1. $T_c$, cуми індивідуальних значень по кожнії з груп: 43, 37, 24.\n",
    "2. $\\sum{T^2_c}$,  cума квадратів сумарних значень по кожній з груп: $43^2 +  37^2 + 24^2 = 3794$\n",
    "3. $c$, кількість умов (градацій фактора/ груп): 3\n",
    "4. $n$, кількість досліджень в групах: 6, 6, 6.\n",
    "5. $N$, загальна кількість досліджень: 18.\n",
    "6. $(\\sum{x_i})^2$, квадрат загальної суми індивідуальних значень: 10 816\n",
    "7. $\\frac{(\\sum{x_i})^2}{N}$,Константа, яку потрібно відняти від кожної суми квадратів:  600,9\n",
    "8. $x_i$, індивідуальне значення\n",
    "9. $\\sum({x_i}^2)$, сума квадратів індивідуальних значень.\n",
    "\n",
    "\n",
    "Тоді, послідовність операцій в однофакторному дисперсійному аналізі виглядає наступним чином:\n",
    "1. Розрахувати внутрішньогрупову дисперсію ($SS_{факт}$).\n",
    "\n",
    "$$ SS_{факт}  = \\frac{\\sum{T^2_c}}{n} - \\frac{(\\sum{x_i})^2}{N} = \\frac{3794}{6} - \\frac{10 816}{18} = 31,44$$\n",
    "\n",
    "2. Розрахувати загальногрупову дисперсію ($SS_{заг}$).\n",
    "$$ SS_{заг} = \\sum({x_i}^2) - \\frac{(\\sum{x_i})^2}{N} =  8^2+7^2+9^2+5^2+6^2+8^2+7^2+7^2+8^2+5^2+ 4^2+ 6^2+ 7^2+ 4^2+ 5^2+ 3^2+ 6^2+ 2^2+ 4^2 - \\frac{104^2}{18} = 63,11$$\n",
    "\n",
    "3. Розрахувати випадкову (залишкову) величину $SS_{вип}$\n",
    "$$ SS_{вип} = SS_{заг} - SS_{факт} = 63,11 -31,44 = 31,67 $$\n",
    "\n",
    "4. Визначити кількість ступенів свободи:\n",
    "$$d_{факт} = c - 1 = 3 - 1 = 2$$\n",
    "$$d_{заг} = N - 1 = 18 - 1 = 17$$\n",
    "$$d_{вип} = d_{заг} - d_{факт} = 17 - 2 = 15$$\n",
    "\n",
    "5. Розділити кожну SS на відповідне число ступенів свободи:\n",
    "$$MS_{факт} = \\frac{SS_{факт}}{d_{факт}} = \\frac{31,44}{2} = 15,72$$\n",
    "$$MS_{вип} = \\frac{SS_{вип}}{d_{вип}} = \\frac{31,67}{15} = 2,11$$\n",
    "\n",
    "6. Розрахувати значення $F_{емпір}$\n",
    "$$ F_{емпір} = \\frac{MS_{факт}}{MS_{вип}} = \\frac{15,72}{2,11} = 7,45 $$\n",
    "\n",
    "7. Визначити критичне значення F по таблиці критичних значень: \n",
    "\n",
    "$$F_{крит(2,15)} = 3,7 $$\n",
    "\n",
    "8. Співставити емпіричне та критичне значення F.\n",
    "\n",
    "При $F_{емпір} \\geq F_{крит(2,15)}$ нульова гіпотеза про рівність середніх відхиляється.\n",
    "\n",
    "$$7,45 > 3,7$$ - рівність середніх не підтверджена.\n"
   ]
  },
  {
   "cell_type": "markdown",
   "metadata": {
    "colab_type": "text",
    "id": "9qiU_OebnDpv"
   },
   "source": [
    "### Завдання"
   ]
  },
  {
   "cell_type": "markdown",
   "metadata": {
    "colab_type": "text",
    "id": "NlTSSN6x6yTz"
   },
   "source": [
    "1. Розрахувати та вивести у вигляді таблиці статистичні характиристики даних (середні та стандартні відхилення для кожної з груп).\n",
    "2. Побудувати графік розкиду в групах.\n",
    "3. Побудувати функцію, що реалізовує однофакторний дисперсійний аналіз.\n",
    "4. Вивести результати розрахунку кожного з етапів вказаних вище у вигляді таблиці.\n",
    "5. Перевірити результат роботи функції на реальних або сгенерованих даних. Зробити висновок."
   ]
  },
  {
   "cell_type": "code",
   "execution_count": 1,
   "metadata": {},
   "outputs": [],
   "source": [
    "import scipy.stats as ss\n",
    "import numpy as np\n",
    "import pandas as pd\n",
    "import math\n",
    "import matplotlib.pyplot as plt\n",
    "import seaborn as sns"
   ]
  },
  {
   "cell_type": "markdown",
   "metadata": {},
   "source": [
    "Требуется выяснить, влияет ли тип используемого сырья на прибыль предприятия. В шести классах градации (группах) фактора (1-й тип, 2-й тип и т.д.) собраны данные о прибыли от производства 1000 единиц продукции в миллионах рублей в течении 4 лет."
   ]
  },
  {
   "cell_type": "code",
   "execution_count": 6,
   "metadata": {},
   "outputs": [
    {
     "name": "stdout",
     "output_type": "stream",
     "text": [
      "прибыль от производства 1000 единиц продукции в течении 4 лет\n"
     ]
    },
    {
     "data": {
      "text/html": [
       "<div>\n",
       "<style scoped>\n",
       "    .dataframe tbody tr th:only-of-type {\n",
       "        vertical-align: middle;\n",
       "    }\n",
       "\n",
       "    .dataframe tbody tr th {\n",
       "        vertical-align: top;\n",
       "    }\n",
       "\n",
       "    .dataframe thead th {\n",
       "        text-align: right;\n",
       "    }\n",
       "</style>\n",
       "<table border=\"1\" class=\"dataframe\">\n",
       "  <thead>\n",
       "    <tr style=\"text-align: right;\">\n",
       "      <th>Предприятие</th>\n",
       "      <th>1 - 2014</th>\n",
       "      <th>2 - 2015</th>\n",
       "      <th>3 - 2016</th>\n",
       "      <th>4 - 2017</th>\n",
       "    </tr>\n",
       "    <tr>\n",
       "      <th>Тип сырья</th>\n",
       "      <th></th>\n",
       "      <th></th>\n",
       "      <th></th>\n",
       "      <th></th>\n",
       "    </tr>\n",
       "  </thead>\n",
       "  <tbody>\n",
       "    <tr>\n",
       "      <th>1</th>\n",
       "      <td>7.21</td>\n",
       "      <td>7.55</td>\n",
       "      <td>7.29</td>\n",
       "      <td>7.60</td>\n",
       "    </tr>\n",
       "    <tr>\n",
       "      <th>2</th>\n",
       "      <td>7.89</td>\n",
       "      <td>8.27</td>\n",
       "      <td>7.39</td>\n",
       "      <td>8.18</td>\n",
       "    </tr>\n",
       "    <tr>\n",
       "      <th>3</th>\n",
       "      <td>7.25</td>\n",
       "      <td>7.01</td>\n",
       "      <td>7.37</td>\n",
       "      <td>7.53</td>\n",
       "    </tr>\n",
       "    <tr>\n",
       "      <th>4</th>\n",
       "      <td>7.75</td>\n",
       "      <td>7.41</td>\n",
       "      <td>7.27</td>\n",
       "      <td>7.42</td>\n",
       "    </tr>\n",
       "    <tr>\n",
       "      <th>5</th>\n",
       "      <td>7.70</td>\n",
       "      <td>8.28</td>\n",
       "      <td>8.55</td>\n",
       "      <td>8.60</td>\n",
       "    </tr>\n",
       "    <tr>\n",
       "      <th>6</th>\n",
       "      <td>7.56</td>\n",
       "      <td>8.05</td>\n",
       "      <td>8.07</td>\n",
       "      <td>7.84</td>\n",
       "    </tr>\n",
       "  </tbody>\n",
       "</table>\n",
       "</div>"
      ],
      "text/plain": [
       "Предприятие  1 - 2014  2 - 2015  3 - 2016  4 - 2017\n",
       "Тип сырья                                          \n",
       "1                7.21      7.55      7.29      7.60\n",
       "2                7.89      8.27      7.39      8.18\n",
       "3                7.25      7.01      7.37      7.53\n",
       "4                7.75      7.41      7.27      7.42\n",
       "5                7.70      8.28      8.55      8.60\n",
       "6                7.56      8.05      8.07      7.84"
      ]
     },
     "execution_count": 6,
     "metadata": {},
     "output_type": "execute_result"
    }
   ],
   "source": [
    "table1=[]\n",
    "table1 = [7.21,7.89,7.25,7.75,7.7,7.56]\n",
    "table2=[]\n",
    "table2 = [7.55,8.27,7.01,7.41,8.28,8.05]\n",
    "table3=[]\n",
    "table3 = [7.29,7.39,7.37,7.27,8.55,8.07]\n",
    "table4=[]\n",
    "table4 = [7.6,8.18,7.53,7.42,8.6,7.84]\n",
    "\n",
    "df = pd.DataFrame({\n",
    "    '1 - 2014': table1,\n",
    "    '2 - 2015': table2,\n",
    "    '3 - 2016': table3,\n",
    "    '4 - 2017': table4\n",
    "}, index=np.arange(1, len(table1)+1))\n",
    "df.columns.name = 'Предприятие'\n",
    "df.index.name = 'Тип сырья'\n",
    "print('прибыль от производства 1000 единиц продукции в течении 4 лет')\n",
    "df"
   ]
  },
  {
   "cell_type": "code",
   "execution_count": 5,
   "metadata": {},
   "outputs": [
    {
     "data": {
      "text/plain": [
       "[]"
      ]
     },
     "execution_count": 5,
     "metadata": {},
     "output_type": "execute_result"
    },
    {
     "data": {
      "image/png": "[encoded data removed]",
      "text/plain": [
       "<Figure size 432x288 with 1 Axes>"
      ]
     },
     "metadata": {
      "needs_background": "light"
     },
     "output_type": "display_data"
    }
   ],
   "source": [
    "sns.boxplot(data=df, orient='h').set()"
   ]
  },
  {
   "cell_type": "code",
   "execution_count": 9,
   "metadata": {},
   "outputs": [
    {
     "data": {
      "text/html": [
       "<div>\n",
       "<style scoped>\n",
       "    .dataframe tbody tr th:only-of-type {\n",
       "        vertical-align: middle;\n",
       "    }\n",
       "\n",
       "    .dataframe tbody tr th {\n",
       "        vertical-align: top;\n",
       "    }\n",
       "\n",
       "    .dataframe thead th {\n",
       "        text-align: right;\n",
       "    }\n",
       "</style>\n",
       "<table border=\"1\" class=\"dataframe\">\n",
       "  <thead>\n",
       "    <tr style=\"text-align: right;\">\n",
       "      <th>Предприятие</th>\n",
       "      <th>1 - 2014</th>\n",
       "      <th>2 - 2015</th>\n",
       "      <th>3 - 2016</th>\n",
       "      <th>4 - 2017</th>\n",
       "    </tr>\n",
       "  </thead>\n",
       "  <tbody>\n",
       "    <tr>\n",
       "      <th>1</th>\n",
       "      <td>7.210</td>\n",
       "      <td>7.550</td>\n",
       "      <td>7.290</td>\n",
       "      <td>7.600</td>\n",
       "    </tr>\n",
       "    <tr>\n",
       "      <th>2</th>\n",
       "      <td>7.890</td>\n",
       "      <td>8.270</td>\n",
       "      <td>7.390</td>\n",
       "      <td>8.180</td>\n",
       "    </tr>\n",
       "    <tr>\n",
       "      <th>3</th>\n",
       "      <td>7.250</td>\n",
       "      <td>7.010</td>\n",
       "      <td>7.370</td>\n",
       "      <td>7.530</td>\n",
       "    </tr>\n",
       "    <tr>\n",
       "      <th>4</th>\n",
       "      <td>7.750</td>\n",
       "      <td>7.410</td>\n",
       "      <td>7.270</td>\n",
       "      <td>7.420</td>\n",
       "    </tr>\n",
       "    <tr>\n",
       "      <th>5</th>\n",
       "      <td>7.700</td>\n",
       "      <td>8.280</td>\n",
       "      <td>8.550</td>\n",
       "      <td>8.600</td>\n",
       "    </tr>\n",
       "    <tr>\n",
       "      <th>6</th>\n",
       "      <td>7.560</td>\n",
       "      <td>8.050</td>\n",
       "      <td>8.070</td>\n",
       "      <td>7.840</td>\n",
       "    </tr>\n",
       "    <tr>\n",
       "      <th>mean</th>\n",
       "      <td>7.560</td>\n",
       "      <td>7.762</td>\n",
       "      <td>7.657</td>\n",
       "      <td>7.862</td>\n",
       "    </tr>\n",
       "    <tr>\n",
       "      <th>sum</th>\n",
       "      <td>45.360</td>\n",
       "      <td>46.570</td>\n",
       "      <td>45.940</td>\n",
       "      <td>47.170</td>\n",
       "    </tr>\n",
       "  </tbody>\n",
       "</table>\n",
       "</div>"
      ],
      "text/plain": [
       "Предприятие  1 - 2014  2 - 2015  3 - 2016  4 - 2017\n",
       "1               7.210     7.550     7.290     7.600\n",
       "2               7.890     8.270     7.390     8.180\n",
       "3               7.250     7.010     7.370     7.530\n",
       "4               7.750     7.410     7.270     7.420\n",
       "5               7.700     8.280     8.550     8.600\n",
       "6               7.560     8.050     8.070     7.840\n",
       "mean            7.560     7.762     7.657     7.862\n",
       "sum            45.360    46.570    45.940    47.170"
      ]
     },
     "execution_count": 9,
     "metadata": {},
     "output_type": "execute_result"
    }
   ],
   "source": [
    "df_stats = pd.DataFrame([[np.mean(table1), np.mean(table2), np.mean(table3), np.mean(table4)],\n",
    "                        [np.sum(table1), np.sum(table2), np.sum(table3), np.sum(table4)]],\n",
    "                       columns = df.columns,\n",
    "                       index = ['mean', 'sum'])\n",
    "\n",
    "# Remove exponent sign\n",
    "pd.set_option('display.float_format', lambda x: '%.3f' % x)\n",
    "\n",
    "df.append(df_stats)"
   ]
  },
  {
   "cell_type": "code",
   "execution_count": 10,
   "metadata": {},
   "outputs": [
    {
     "data": {
      "text/html": [
       "<div>\n",
       "<style scoped>\n",
       "    .dataframe tbody tr th:only-of-type {\n",
       "        vertical-align: middle;\n",
       "    }\n",
       "\n",
       "    .dataframe tbody tr th {\n",
       "        vertical-align: top;\n",
       "    }\n",
       "\n",
       "    .dataframe thead th {\n",
       "        text-align: right;\n",
       "    }\n",
       "</style>\n",
       "<table border=\"1\" class=\"dataframe\">\n",
       "  <thead>\n",
       "    <tr style=\"text-align: right;\">\n",
       "      <th>Предприятие</th>\n",
       "      <th>1 - 2014</th>\n",
       "      <th>2 - 2015</th>\n",
       "      <th>3 - 2016</th>\n",
       "      <th>4 - 2017</th>\n",
       "    </tr>\n",
       "  </thead>\n",
       "  <tbody>\n",
       "    <tr>\n",
       "      <th>mean</th>\n",
       "      <td>7.560</td>\n",
       "      <td>7.762</td>\n",
       "      <td>7.657</td>\n",
       "      <td>7.862</td>\n",
       "    </tr>\n",
       "    <tr>\n",
       "      <th>std</th>\n",
       "      <td>0.253</td>\n",
       "      <td>0.473</td>\n",
       "      <td>0.484</td>\n",
       "      <td>0.412</td>\n",
       "    </tr>\n",
       "  </tbody>\n",
       "</table>\n",
       "</div>"
      ],
      "text/plain": [
       "Предприятие  1 - 2014  2 - 2015  3 - 2016  4 - 2017\n",
       "mean            7.560     7.762     7.657     7.862\n",
       "std             0.253     0.473     0.484     0.412"
      ]
     },
     "execution_count": 10,
     "metadata": {},
     "output_type": "execute_result"
    }
   ],
   "source": [
    "df_std = pd.DataFrame([[np.std(table1), np.std(table2), np.std(table3), np.std(table4)]],\n",
    "                     columns = df_stats.columns.tolist(), index=['std'])\n",
    "\n",
    "df_stats = df_stats.append(df_std)\n",
    "df_stats.drop(['sum'], axis=0)"
   ]
  },
  {
   "cell_type": "code",
   "execution_count": 12,
   "metadata": {},
   "outputs": [
    {
     "data": {
      "text/html": [
       "<div>\n",
       "<style scoped>\n",
       "    .dataframe tbody tr th:only-of-type {\n",
       "        vertical-align: middle;\n",
       "    }\n",
       "\n",
       "    .dataframe tbody tr th {\n",
       "        vertical-align: top;\n",
       "    }\n",
       "\n",
       "    .dataframe thead th {\n",
       "        text-align: right;\n",
       "    }\n",
       "</style>\n",
       "<table border=\"1\" class=\"dataframe\">\n",
       "  <thead>\n",
       "    <tr style=\"text-align: right;\">\n",
       "      <th></th>\n",
       "      <th>value</th>\n",
       "    </tr>\n",
       "  </thead>\n",
       "  <tbody>\n",
       "    <tr>\n",
       "      <th>$SS_{факт}$</th>\n",
       "      <td>0.306</td>\n",
       "    </tr>\n",
       "    <tr>\n",
       "      <th>$SS_{заг}$</th>\n",
       "      <td>4.460</td>\n",
       "    </tr>\n",
       "    <tr>\n",
       "      <th>$SS_{вип}$</th>\n",
       "      <td>4.153</td>\n",
       "    </tr>\n",
       "    <tr>\n",
       "      <th>$d_{факт}$</th>\n",
       "      <td>3.000</td>\n",
       "    </tr>\n",
       "    <tr>\n",
       "      <th>$d_{заг}$</th>\n",
       "      <td>23.000</td>\n",
       "    </tr>\n",
       "    <tr>\n",
       "      <th>$d_{вип}$</th>\n",
       "      <td>20.000</td>\n",
       "    </tr>\n",
       "    <tr>\n",
       "      <th>$MS_{факт}$</th>\n",
       "      <td>0.102</td>\n",
       "    </tr>\n",
       "    <tr>\n",
       "      <th>$MS_{вип}$</th>\n",
       "      <td>0.208</td>\n",
       "    </tr>\n",
       "    <tr>\n",
       "      <th>$F_{емп}$</th>\n",
       "      <td>0.491</td>\n",
       "    </tr>\n",
       "    <tr>\n",
       "      <th>$F_{крит}$</th>\n",
       "      <td>3.100</td>\n",
       "    </tr>\n",
       "  </tbody>\n",
       "</table>\n",
       "</div>"
      ],
      "text/plain": [
       "             value\n",
       "$SS_{факт}$  0.306\n",
       "$SS_{заг}$   4.460\n",
       "$SS_{вип}$   4.153\n",
       "$d_{факт}$   3.000\n",
       "$d_{заг}$   23.000\n",
       "$d_{вип}$   20.000\n",
       "$MS_{факт}$  0.102\n",
       "$MS_{вип}$   0.208\n",
       "$F_{емп}$    0.491\n",
       "$F_{крит}$   3.100"
      ]
     },
     "execution_count": 12,
     "metadata": {},
     "output_type": "execute_result"
    }
   ],
   "source": [
    "from functools import reduce\n",
    "\n",
    "def anova(groups):\n",
    "    all_values = reduce(lambda group1, group2: group1+group2, groups)\n",
    "    \n",
    "    Tc = [sum([x for x in group]) for group in groups]\n",
    "    sum_of_squared_Tc = sum([x**2 for x in Tc])\n",
    "    c = len(groups)\n",
    "    n = len(groups[0])\n",
    "    N = sum([len(group) for group in groups])\n",
    "    squared_sum_of_xi = sum(all_values)**2\n",
    "    squared_sum_of_xi_divide_N = squared_sum_of_xi / N\n",
    "    sum_of_squared_xi = sum([x**2 for x in all_values])\n",
    "    \n",
    "    SS_fact = sum_of_squared_Tc / n - squared_sum_of_xi / N\n",
    "    SS_overall = sum_of_squared_xi - squared_sum_of_xi / N\n",
    "    SS_rest = SS_overall - SS_fact\n",
    "    \n",
    "    d_fact = c - 1\n",
    "    d_overall = N - 1\n",
    "    d_rest = d_overall - d_fact\n",
    "    \n",
    "    MS_fact = SS_fact / d_fact\n",
    "    MS_rest = SS_rest / d_rest\n",
    "    \n",
    "    F_exp = MS_fact / MS_rest\n",
    "    \n",
    "    fisher_critical = pd.read_excel('fisher.xlsx',index_col=0, skiprows=1, skipfooter=9, index=False)\n",
    "    \n",
    "    f1_list = fisher_critical.columns.tolist()\n",
    "    f2_list = fisher_critical.index.tolist()\n",
    "    \n",
    "    try:\n",
    "        f1 = f1_list[f1_list.index(d_fact)]\n",
    "    except ValueError:\n",
    "        if d_rest > 34:\n",
    "            f1 = '>40'\n",
    "        else:\n",
    "            array = np.asarray(f2_fact[:-1])\n",
    "            idx = (np.abs(array - d_fact)).argmin()\n",
    "            f1 = array[idx]\n",
    "    \n",
    "    try:\n",
    "        f2 = f2_list[f2_list.index(d_rest)]\n",
    "    except ValueError:\n",
    "        if d_rest > 124:\n",
    "            f2 = '>130'\n",
    "        else:\n",
    "            array = np.asarray(f2_list[:-1])\n",
    "            idx = (np.abs(array - d_rest)).argmin()\n",
    "            f2 = array[idx]\n",
    "    \n",
    "    F_crit = fisher_critical.loc[f2, f1]\n",
    "    \n",
    "    steps = pd.DataFrame([SS_fact, SS_overall, SS_rest, d_fact, d_overall, d_rest, MS_fact, MS_rest, F_exp, F_crit],\n",
    "                     columns = ['value'],\n",
    "                     index = ['$SS_{факт}$', '$SS_{заг}$', '$SS_{вип}$', '$d_{факт}$', '$d_{заг}$',\n",
    "                              '$d_{вип}$', '$MS_{факт}$', '$MS_{вип}$', '$F_{емп}$', '$F_{крит}$'])\n",
    "    \n",
    "    return steps\n",
    "\n",
    "\n",
    "groups = df[df.columns].transpose().to_numpy().tolist()\n",
    "\n",
    "anova(groups)"
   ]
  },
  {
   "cell_type": "markdown",
   "metadata": {},
   "source": [
    "Так как фактическое отношение Фишера больше критического прибыль предприятия в зависимости от вида сырья, использованного в производстве, существенно отличается.\n",
    "\n",
    "Или, что то же самое, отвергаем основную гипотезу о равенстве средних во всех классах градации фактора (группах)."
   ]
  },
  {
   "cell_type": "code",
   "execution_count": null,
   "metadata": {},
   "outputs": [],
   "source": []
  }
 ],
 "metadata": {
  "colab": {
   "authorship_tag": "ABX9TyPz43bweI3Rw31Fk91MPGuX",
   "collapsed_sections": [],
   "name": "КП8.ipynb",
   "provenance": []
  },
  "kernelspec": {
   "display_name": "Python 3",
   "language": "python",
   "name": "python3"
  },
  "language_info": {
   "codemirror_mode": {
    "name": "ipython",
    "version": 3
   },
   "file_extension": ".py",
   "mimetype": "text/x-python",
   "name": "python",
   "nbconvert_exporter": "python",
   "pygments_lexer": "ipython3",
   "version": "3.8.2"
  }
 },
 "nbformat": 4,
 "nbformat_minor": 1
}
